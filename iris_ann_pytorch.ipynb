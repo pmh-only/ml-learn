{
 "cells": [
  {
   "cell_type": "code",
   "execution_count": 111,
   "metadata": {},
   "outputs": [],
   "source": [
    "import torch\n",
    "import pandas as pd\n",
    "\n",
    "class IrisDataset(torch.utils.data.Dataset):\n",
    "  def __init__(self):\n",
    "    self.labels = pd.get_dummies(pd.read_csv('./datasets/iris_flower.csv')['Species']) \\\n",
    "      .astype('float32').to_numpy()\n",
    "\n",
    "    self.data = pd.read_csv('./datasets/iris_flower.csv') \\\n",
    "      .drop('Species', axis=1) \\\n",
    "      .drop('Id', axis=1) \\\n",
    "      .astype('float32').to_numpy()\n",
    "    \n",
    "  def __len__(self):\n",
    "    return len(self.data)\n",
    "\n",
    "  def __getitem__(self, idx):\n",
    "    return self.data[idx], self.labels[idx]\n",
    "\n",
    "dataset = IrisDataset()\n",
    "train, test = torch.utils.data.random_split(dataset, [120, 30])\n",
    "\n",
    "train_loader = torch.utils.data.DataLoader(train, batch_size=32, shuffle=True)\n",
    "test_loader = torch.utils.data.DataLoader(test, batch_size=32, shuffle=True)"
   ]
  },
  {
   "cell_type": "code",
   "execution_count": 112,
   "metadata": {},
   "outputs": [
    {
     "name": "stdout",
     "output_type": "stream",
     "text": [
      "IrisNeuralNetwork(\n",
      "  (flatten): Flatten(start_dim=1, end_dim=-1)\n",
      "  (linear_relu_stack): Sequential(\n",
      "    (0): Linear(in_features=4, out_features=8, bias=True)\n",
      "    (1): ReLU()\n",
      "    (2): Linear(in_features=8, out_features=8, bias=True)\n",
      "    (3): ReLU()\n",
      "    (4): Linear(in_features=8, out_features=3, bias=True)\n",
      "    (5): Softmax(dim=1)\n",
      "  )\n",
      ")\n"
     ]
    }
   ],
   "source": [
    "class IrisNeuralNetwork(torch.nn.Module):\n",
    "  def __init__(self):\n",
    "    super().__init__()\n",
    "\n",
    "    self.flatten = torch.nn.Flatten()\n",
    "    self.linear_relu_stack = torch.nn.Sequential(\n",
    "      torch.nn.Linear(4, 8),\n",
    "      torch.nn.ReLU(),\n",
    "      torch.nn.Linear(8, 8),\n",
    "      torch.nn.ReLU(),\n",
    "      torch.nn.Linear(8, 3),\n",
    "      torch.nn.Softmax(dim=1)\n",
    "    )\n",
    "\n",
    "  def forward(self, x):\n",
    "    x = self.flatten(x)\n",
    "    logits = self.linear_relu_stack(x)\n",
    "    return logits\n",
    "  \n",
    "model = IrisNeuralNetwork().to(\"cpu\")\n",
    "print(model)"
   ]
  },
  {
   "cell_type": "code",
   "execution_count": 113,
   "metadata": {},
   "outputs": [
    {
     "name": "stdout",
     "output_type": "stream",
     "text": [
      "Epoch: 0, Loss: 0.233\n",
      "Epoch: 0, Loss: 0.225\n",
      "Epoch: 0, Loss: 0.233\n",
      "Epoch: 0, Loss: 0.232\n",
      "Epoch: 100, Loss: 0.127\n",
      "Epoch: 100, Loss: 0.121\n",
      "Epoch: 100, Loss: 0.119\n",
      "Epoch: 100, Loss: 0.152\n",
      "Epoch: 200, Loss: 0.029\n",
      "Epoch: 200, Loss: 0.034\n",
      "Epoch: 200, Loss: 0.015\n",
      "Epoch: 200, Loss: 0.016\n",
      "Epoch: 300, Loss: 0.007\n",
      "Epoch: 300, Loss: 0.037\n",
      "Epoch: 300, Loss: 0.014\n",
      "Epoch: 300, Loss: 0.001\n",
      "Epoch: 400, Loss: 0.017\n",
      "Epoch: 400, Loss: 0.004\n",
      "Epoch: 400, Loss: 0.007\n",
      "Epoch: 400, Loss: 0.042\n",
      "Epoch: 500, Loss: 0.008\n",
      "Epoch: 500, Loss: 0.002\n",
      "Epoch: 500, Loss: 0.012\n",
      "Epoch: 500, Loss: 0.038\n",
      "Epoch: 600, Loss: 0.002\n",
      "Epoch: 600, Loss: 0.032\n",
      "Epoch: 600, Loss: 0.005\n",
      "Epoch: 600, Loss: 0.014\n",
      "Epoch: 700, Loss: 0.007\n",
      "Epoch: 700, Loss: 0.005\n",
      "Epoch: 700, Loss: 0.030\n",
      "Epoch: 700, Loss: 0.006\n",
      "Epoch: 800, Loss: 0.028\n",
      "Epoch: 800, Loss: 0.001\n",
      "Epoch: 800, Loss: 0.015\n",
      "Epoch: 800, Loss: 0.003\n",
      "Epoch: 900, Loss: 0.002\n",
      "Epoch: 900, Loss: 0.026\n",
      "Epoch: 900, Loss: 0.010\n",
      "Epoch: 900, Loss: 0.009\n"
     ]
    }
   ],
   "source": [
    "criterion = torch.nn.MSELoss()\n",
    "optimizer = torch.optim.SGD(model.parameters(), lr=0.01, momentum=0.9)\n",
    "\n",
    "for epoch in range(1000):\n",
    "  for i, (inputs, targets) in enumerate(train_loader):\n",
    "    optimizer.zero_grad()\n",
    "    outputs = model(inputs)\n",
    "    loss = criterion(outputs, targets)\n",
    "    loss.backward()\n",
    "    optimizer.step()\n",
    "    if epoch % 100 == 0:\n",
    "      print('Epoch: %d, Loss: %.3f' % (epoch, loss.item()))"
   ]
  },
  {
   "cell_type": "code",
   "execution_count": 161,
   "metadata": {},
   "outputs": [
    {
     "name": "stdout",
     "output_type": "stream",
     "text": [
      "tensor([2, 0, 1, 1, 2, 1, 1, 0, 2, 2, 2, 2, 1, 2, 0, 2, 2, 2, 0, 0, 2, 1, 0, 1,\n",
      "        1, 1, 0, 0, 2, 2]) tensor([2, 0, 1, 1, 2, 1, 1, 0, 2, 2, 2, 2, 1, 2, 0, 2, 2, 2, 0, 0, 2, 1, 0, 1,\n",
      "        1, 1, 0, 0, 2, 2])\n",
      "Test Accuracy: 100.00%\n"
     ]
    }
   ],
   "source": [
    "model.eval()  # Set the model to evaluation mode\n",
    "correct = 0\n",
    "total = 0\n",
    "\n",
    "with torch.no_grad():\n",
    "  for inputs, targets in test_loader:\n",
    "    inputs, targets = inputs.to(\"cpu\"), targets.to(\"cpu\")\n",
    "    \n",
    "    outputs = model(inputs)\n",
    "    _, predicted = torch.max(outputs.data, 1)\n",
    "    \n",
    "    # Convert one-hot encoded targets to class indices\n",
    "    target_class = torch.argmax(targets, dim=1)\n",
    "    print(predicted, target_class)\n",
    "    \n",
    "    total += targets.size(0)\n",
    "    correct += (predicted == target_class).sum().item()\n",
    "\n",
    "test_accuracy = 100 * correct / total\n",
    "print(f\"Test Accuracy: {test_accuracy:.2f}%\")"
   ]
  }
 ],
 "metadata": {
  "kernelspec": {
   "display_name": "env",
   "language": "python",
   "name": "python3"
  },
  "language_info": {
   "codemirror_mode": {
    "name": "ipython",
    "version": 3
   },
   "file_extension": ".py",
   "mimetype": "text/x-python",
   "name": "python",
   "nbconvert_exporter": "python",
   "pygments_lexer": "ipython3",
   "version": "3.12.7"
  }
 },
 "nbformat": 4,
 "nbformat_minor": 2
}
