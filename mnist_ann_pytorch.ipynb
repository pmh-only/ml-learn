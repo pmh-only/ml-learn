{
 "cells": [
  {
   "cell_type": "code",
   "execution_count": 1,
   "metadata": {},
   "outputs": [],
   "source": [
    "import torch\n",
    "import torch.nn as nn\n",
    "import torch.optim as optim\n",
    "import torch.utils.data as data\n",
    "\n",
    "import pickle\n",
    "import numpy as np\n",
    "import pandas as pd\n",
    "\n",
    "np.set_printoptions(threshold=np.inf)\n",
    "pd.set_option('display.max_colwidth', None)"
   ]
  },
  {
   "cell_type": "code",
   "execution_count": 8,
   "metadata": {},
   "outputs": [
    {
     "name": "stdout",
     "output_type": "stream",
     "text": [
      "(60000, 784)\n"
     ]
    }
   ],
   "source": [
    "with open(\"./datasets/mnist/train-images-flatten.pkl\", \"rb\") as f:\n",
    "  train_x = pickle.load(f)\n",
    "\n",
    "with open(\"./datasets/mnist/train-labels.pkl\", \"rb\") as f:\n",
    "  train_t = pickle.load(f)\n",
    "\n",
    "with open(\"./datasets/mnist/test-images-flatten.pkl\", \"rb\") as f:\n",
    "  test_x = pickle.load(f)\n",
    "\n",
    "with open(\"./datasets/mnist/test-labels.pkl\", \"rb\") as f:\n",
    "  test_t = pickle.load(f)"
   ]
  },
  {
   "cell_type": "code",
   "execution_count": 3,
   "metadata": {},
   "outputs": [],
   "source": [
    "class Dataset(data.Dataset):\n",
    "  def __init__(self, data, label) :\n",
    "    self.data = data\n",
    "    self.label = label\n",
    "\n",
    "  def __len__(self) :\n",
    "    return len(self.data)\n",
    "\n",
    "  def __getitem__(self, idx) :\n",
    "    data = torch.FloatTensor(self.data[idx])\n",
    "    label = torch.FloatTensor(self.label[idx])\n",
    "\n",
    "    return data, label"
   ]
  },
  {
   "cell_type": "code",
   "execution_count": 4,
   "metadata": {},
   "outputs": [],
   "source": [
    "train_dataset = Dataset(train_x, train_t)\n",
    "test_dataset = Dataset(test_x, test_t)\n",
    "\n",
    "train_loader = data.DataLoader(train_dataset, batch_size=500, shuffle=True)\n",
    "test_loader = data.DataLoader(test_dataset, batch_size=32, shuffle=True)"
   ]
  },
  {
   "cell_type": "code",
   "execution_count": 5,
   "metadata": {},
   "outputs": [
    {
     "data": {
      "text/plain": [
       "Model(\n",
       "  (layers): Sequential(\n",
       "    (0): Linear(in_features=784, out_features=100, bias=True)\n",
       "    (1): ReLU()\n",
       "    (2): Linear(in_features=100, out_features=10, bias=True)\n",
       "    (3): Softmax(dim=1)\n",
       "  )\n",
       ")"
      ]
     },
     "execution_count": 5,
     "metadata": {},
     "output_type": "execute_result"
    }
   ],
   "source": [
    "class Model(nn.Module):\n",
    "  def __init__(self):\n",
    "    super().__init__()\n",
    "    self.layers = nn.Sequential(\n",
    "      nn.Linear(28*28, 100),\n",
    "      nn.ReLU(),\n",
    "      nn.Linear(100, 10),\n",
    "      nn.Softmax(dim=1)\n",
    "    )\n",
    "\n",
    "  def forward(self, x):\n",
    "    return self.layers(x)\n",
    "  \n",
    "model = Model()\n",
    "model"
   ]
  },
  {
   "cell_type": "code",
   "execution_count": 6,
   "metadata": {},
   "outputs": [
    {
     "name": "stdout",
     "output_type": "stream",
     "text": [
      "Epoch: 0, Loss: 0.088\n",
      "Epoch: 1, Loss: 0.076\n",
      "Epoch: 2, Loss: 0.055\n",
      "Epoch: 3, Loss: 0.038\n",
      "Epoch: 4, Loss: 0.029\n",
      "Epoch: 5, Loss: 0.024\n",
      "Epoch: 6, Loss: 0.021\n",
      "Epoch: 7, Loss: 0.019\n",
      "Epoch: 8, Loss: 0.018\n",
      "Epoch: 9, Loss: 0.017\n",
      "Epoch: 10, Loss: 0.016\n",
      "Epoch: 11, Loss: 0.016\n",
      "Epoch: 12, Loss: 0.015\n",
      "Epoch: 13, Loss: 0.015\n",
      "Epoch: 14, Loss: 0.015\n",
      "Epoch: 15, Loss: 0.014\n"
     ]
    }
   ],
   "source": [
    "criterion = nn.MSELoss()\n",
    "optimizer = optim.SGD(model.parameters(), lr=0.05, momentum=0.9)\n",
    "\n",
    "for epoch in range(16):\n",
    "  loss_sm=0\n",
    "  loss_ct=0\n",
    "\n",
    "  for x, t in train_loader:\n",
    "    optimizer.zero_grad()\n",
    "    y = model(x)\n",
    "    loss = criterion(y, t)\n",
    "    loss.backward()\n",
    "    optimizer.step()\n",
    "\n",
    "    loss_sm+=loss.item()\n",
    "    loss_ct+=1\n",
    "\n",
    "  print('Epoch: %d, Loss: %.3f' % (epoch, loss_sm/loss_ct))"
   ]
  },
  {
   "cell_type": "code",
   "execution_count": 9,
   "metadata": {},
   "outputs": [
    {
     "name": "stdout",
     "output_type": "stream",
     "text": [
      "Test Accuracy: 91.51%\n"
     ]
    }
   ],
   "source": [
    "model.eval()\n",
    "total = 0\n",
    "correct = 0\n",
    "\n",
    "for x, t in test_loader:\n",
    "  y = model(x)\n",
    "  y = torch.argmax(y, dim=1)\n",
    "  t = torch.argmax(t, dim=1)\n",
    "\n",
    "  total += t.size(0)\n",
    "  correct += (y == t).sum().item()\n",
    "\n",
    "test_accuracy = 100 * correct / total\n",
    "print(f\"Test Accuracy: {test_accuracy:.2f}%\")"
   ]
  }
 ],
 "metadata": {
  "kernelspec": {
   "display_name": "env",
   "language": "python",
   "name": "python3"
  },
  "language_info": {
   "codemirror_mode": {
    "name": "ipython",
    "version": 3
   },
   "file_extension": ".py",
   "mimetype": "text/x-python",
   "name": "python",
   "nbconvert_exporter": "python",
   "pygments_lexer": "ipython3",
   "version": "3.12.7"
  }
 },
 "nbformat": 4,
 "nbformat_minor": 2
}
